{
 "cells": [
  {
   "cell_type": "code",
   "execution_count": 1,
   "metadata": {},
   "outputs": [
    {
     "name": "stderr",
     "output_type": "stream",
     "text": [
      "Using TensorFlow backend.\n"
     ]
    }
   ],
   "source": [
    "import tensorflow as tf\n",
    "import tensorflow_hub as hub\n",
    "import numpy as np\n",
    "import pandas as pd\n",
    "import keras as keras"
   ]
  },
  {
   "cell_type": "code",
   "execution_count": 3,
   "metadata": {},
   "outputs": [],
   "source": [
    "#source model ELMo\n",
    "#url = \"https://tfhub.dev/google/elmo/3\"\n",
    "#embed = hub.Module(url)\n"
   ]
  },
  {
   "cell_type": "code",
   "execution_count": 4,
   "metadata": {},
   "outputs": [
    {
     "name": "stdout",
     "output_type": "stream",
     "text": [
      "1    73091\n",
      "0    73091\n",
      "Name: label, dtype: int64\n"
     ]
    }
   ],
   "source": [
    "import pandas as pd\n",
    "train = pd.read_csv(r\"D:train4.csv\",delimiter='|', encoding='utf-8')#buka file\n",
    "train=train.dropna()\n",
    "list(train.columns.values)\n",
    "sentiment_counts = train.label.value_counts()\n",
    "\n",
    "print(sentiment_counts)"
   ]
  },
  {
   "cell_type": "code",
   "execution_count": 5,
   "metadata": {},
   "outputs": [
    {
     "name": "stdout",
     "output_type": "stream",
     "text": [
      "1    18201\n",
      "0    18201\n",
      "Name: label, dtype: int64\n"
     ]
    }
   ],
   "source": [
    "import pandas as pd\n",
    "test = pd.read_csv(r\"D:test4.csv\",delimiter='|', encoding='utf-8')#buka file\n",
    "test=test.dropna()\n",
    "list(test.columns.values)\n",
    "sentiment_counts = test.label.value_counts()\n",
    "\n",
    "print(sentiment_counts)"
   ]
  },
  {
   "cell_type": "code",
   "execution_count": 6,
   "metadata": {},
   "outputs": [],
   "source": [
    "data = pd.concat([train, test])#gabung file"
   ]
  },
  {
   "cell_type": "code",
   "execution_count": 8,
   "metadata": {},
   "outputs": [],
   "source": [
    "data.index = range(len(data))"
   ]
  },
  {
   "cell_type": "code",
   "execution_count": 9,
   "metadata": {},
   "outputs": [],
   "source": [
    "x = np.array(data[\"tweet_stem\"])\n",
    "y = np.array(data[\"label\"])"
   ]
  },
  {
   "cell_type": "code",
   "execution_count": 10,
   "metadata": {},
   "outputs": [
    {
     "data": {
      "text/plain": [
       "LabelEncoder()"
      ]
     },
     "execution_count": 10,
     "metadata": {},
     "output_type": "execute_result"
    }
   ],
   "source": [
    "from sklearn import preprocessing\n",
    "le = preprocessing.LabelEncoder()\n",
    "le.fit(x)\n",
    "le.fit(y)\n"
   ]
  },
  {
   "cell_type": "code",
   "execution_count": 11,
   "metadata": {},
   "outputs": [],
   "source": [
    "def encode(le, labels):\n",
    "    enc = le.transform(labels)\n",
    "    return keras.utils.to_categorical(enc)\n",
    "\n",
    "def decode(le, one_hot):\n",
    "    dec = np.argmax(one_hot, axis=1)\n",
    "    return le.inverse_transform(dec)"
   ]
  },
  {
   "cell_type": "code",
   "execution_count": 12,
   "metadata": {},
   "outputs": [
    {
     "data": {
      "text/plain": [
       "array([[0., 1.],\n",
       "       [1., 0.],\n",
       "       [0., 1.],\n",
       "       [1., 0.]], dtype=float32)"
      ]
     },
     "execution_count": 12,
     "metadata": {},
     "output_type": "execute_result"
    }
   ],
   "source": [
    "test = encode(le, [1, 0, 1, 0])\n",
    "test\n",
    "\n"
   ]
  },
  {
   "cell_type": "code",
   "execution_count": 13,
   "metadata": {},
   "outputs": [
    {
     "data": {
      "text/plain": [
       "array([1, 0, 1, 0], dtype=int64)"
      ]
     },
     "execution_count": 13,
     "metadata": {},
     "output_type": "execute_result"
    }
   ],
   "source": [
    "untest = decode(le, test)\n",
    "untest"
   ]
  },
  {
   "cell_type": "code",
   "execution_count": 14,
   "metadata": {},
   "outputs": [],
   "source": [
    "x_enc = x\n",
    "y_enc = encode(le, y)"
   ]
  },
  {
   "cell_type": "code",
   "execution_count": 15,
   "metadata": {},
   "outputs": [
    {
     "name": "stdout",
     "output_type": "stream",
     "text": [
      "['gan cenk liat cebong bicara etika nutup mata amnesia rempong buka janji isi pidato cuti pas nyapres udah etika'\n",
      " 'iya bakat bakat anggap orang dungu simple prabowo menang dpt peran tunggu fakta profesi tukang hujat modal baca tulis gitu repot'\n",
      " 'gausah muter bosan plis' ...\n",
      " 'sensasi pamor yaaa emang prabowo ken haters biar penaasaran penasaran muncul kelompok goblok dukung pelihara kuda'\n",
      " 'hehepak lembut santap sanding dgn koleris'\n",
      " 'korupsi kurang hilang preettt gak korupsi ngga hilang'] [[0. 1.]\n",
      " [0. 1.]\n",
      " [1. 0.]\n",
      " ...\n",
      " [0. 1.]\n",
      " [1. 0.]\n",
      " [1. 0.]]\n"
     ]
    }
   ],
   "source": [
    "print(x_enc,y_enc)"
   ]
  },
  {
   "cell_type": "code",
   "execution_count": 16,
   "metadata": {},
   "outputs": [
    {
     "name": "stdout",
     "output_type": "stream",
     "text": [
      "[0. 1.] [1. 0.] [1. 0.]\n"
     ]
    }
   ],
   "source": [
    "print(y_enc[6],y_enc[7],y_enc[8])"
   ]
  },
  {
   "cell_type": "code",
   "execution_count": 18,
   "metadata": {},
   "outputs": [],
   "source": [
    "#membagi file training dan test\n",
    "#x_train = np.asarray(x_train)\n",
    "#y_train = np.asarray(y_train)\n",
    "\n",
    "#x_test = np.asarray(x_test)\n",
    "#y_test = np.asarray(y_test)\n",
    "x_train = np.asarray(x_enc[:146067])\n",
    "y_train = np.asarray(y_enc[:146067])\n",
    "\n",
    "x_test = np.asarray(x_enc[146067:])\n",
    "y_test = np.asarray(y_enc[146067:])\n"
   ]
  },
  {
   "cell_type": "code",
   "execution_count": 19,
   "metadata": {},
   "outputs": [],
   "source": [
    "#word embedding ELMo\n",
    "url = \"module/module_elmo3\"\n",
    "embed = hub.Module(url)\n",
    "def ELMoEmbedding(x):\n",
    "    return embed(tf.squeeze(tf.cast(x, tf.string)), signature=\"default\", as_dict=True)[\"default\"]"
   ]
  },
  {
   "cell_type": "code",
   "execution_count": 20,
   "metadata": {},
   "outputs": [],
   "source": [
    "\n",
    "from keras.layers import Input, Lambda, Dense,LSTM,Concatenate,Embedding,GRU,Reshape,Dropout\n",
    "from keras.models import Model\n",
    "import keras.backend as K\n"
   ]
  },
  {
   "cell_type": "code",
   "execution_count": 31,
   "metadata": {
    "scrolled": true
   },
   "outputs": [
    {
     "name": "stdout",
     "output_type": "stream",
     "text": [
      "INFO:tensorflow:Saver not created because there are no variables in the graph to restore\n"
     ]
    }
   ],
   "source": [
    "#proses deep learning\n",
    "input_text = Input(shape=(1,), dtype=tf.string)\n",
    "embedding = Lambda(ELMoEmbedding, output_shape=(1024, ))(input_text)\n",
    "embedding = Reshape((1, 1024), input_shape=(1024,))(embedding)\n",
    "dropout2=Dropout(0.2)(embedding)\n",
    "dense2 = GRU(130, activation='relu')(dropout2)#ganti LSTM/GRU\n",
    "pred = Dense(2, activation='sigmoid')(dense2)\n",
    "model = Model(inputs=[input_text], outputs=pred)\n",
    "model.compile(loss='categorical_crossentropy', optimizer='adam', metrics=['accuracy'])"
   ]
  },
  {
   "cell_type": "code",
   "execution_count": 32,
   "metadata": {},
   "outputs": [
    {
     "name": "stdout",
     "output_type": "stream",
     "text": [
      "Model: \"model_2\"\n",
      "_________________________________________________________________\n",
      "Layer (type)                 Output Shape              Param #   \n",
      "=================================================================\n",
      "input_2 (InputLayer)         (None, 1)                 0         \n",
      "_________________________________________________________________\n",
      "lambda_2 (Lambda)            (None, 1024)              0         \n",
      "_________________________________________________________________\n",
      "reshape_2 (Reshape)          (None, 1, 1024)           0         \n",
      "_________________________________________________________________\n",
      "dropout_3 (Dropout)          (None, 1, 1024)           0         \n",
      "_________________________________________________________________\n",
      "lstm_2 (LSTM)                (None, 1, 190)            923400    \n",
      "_________________________________________________________________\n",
      "dropout_4 (Dropout)          (None, 1, 190)            0         \n",
      "_________________________________________________________________\n",
      "gru_2 (GRU)                  (None, 130)               125190    \n",
      "_________________________________________________________________\n",
      "dense_2 (Dense)              (None, 2)                 262       \n",
      "=================================================================\n",
      "Total params: 1,048,852\n",
      "Trainable params: 1,048,852\n",
      "Non-trainable params: 0\n",
      "_________________________________________________________________\n"
     ]
    }
   ],
   "source": [
    "model.summary()"
   ]
  },
  {
   "cell_type": "code",
   "execution_count": 23,
   "metadata": {
    "scrolled": true
   },
   "outputs": [
    {
     "name": "stdout",
     "output_type": "stream",
     "text": [
      "WARNING:tensorflow:From D:\\python\\Anaconda3\\envs\\tensorflow\\lib\\site-packages\\tensorflow_core\\python\\ops\\math_grad.py:1424: where (from tensorflow.python.ops.array_ops) is deprecated and will be removed in a future version.\n",
      "Instructions for updating:\n",
      "Use tf.where in 2.0, which has the same broadcast rule as np.where\n",
      "WARNING:tensorflow:From D:\\python\\Anaconda3\\envs\\tensorflow\\lib\\site-packages\\keras\\backend\\tensorflow_backend.py:422: The name tf.global_variables is deprecated. Please use tf.compat.v1.global_variables instead.\n",
      "\n",
      "WARNING:tensorflow:From D:\\python\\Anaconda3\\envs\\tensorflow\\lib\\site-packages\\keras\\backend\\tensorflow_backend.py:431: The name tf.is_variable_initialized is deprecated. Please use tf.compat.v1.is_variable_initialized instead.\n",
      "\n",
      "Train on 109550 samples, validate on 36517 samples\n",
      "Epoch 1/10\n",
      "109550/109550 [==============================] - 753s 7ms/step - loss: 0.5548 - accuracy: 0.7107 - val_loss: 0.5076 - val_accuracy: 0.7556\n",
      "Epoch 2/10\n",
      "109550/109550 [==============================] - 723s 7ms/step - loss: 0.5172 - accuracy: 0.7409 - val_loss: 0.4651 - val_accuracy: 0.7777\n",
      "Epoch 3/10\n",
      "109550/109550 [==============================] - 724s 7ms/step - loss: 0.4952 - accuracy: 0.7562 - val_loss: 0.4519 - val_accuracy: 0.7905\n",
      "Epoch 4/10\n",
      "109550/109550 [==============================] - 723s 7ms/step - loss: 0.4794 - accuracy: 0.7678 - val_loss: 0.4352 - val_accuracy: 0.8016\n",
      "Epoch 5/10\n",
      "109550/109550 [==============================] - 726s 7ms/step - loss: 0.4710 - accuracy: 0.7740 - val_loss: 0.4286 - val_accuracy: 0.8080\n",
      "Epoch 6/10\n",
      "109550/109550 [==============================] - 722s 7ms/step - loss: 0.4612 - accuracy: 0.7817 - val_loss: 0.4185 - val_accuracy: 0.8104\n",
      "Epoch 7/10\n",
      "109550/109550 [==============================] - 731s 7ms/step - loss: 0.4554 - accuracy: 0.7858 - val_loss: 0.4206 - val_accuracy: 0.8187\n",
      "Epoch 8/10\n",
      "109550/109550 [==============================] - 728s 7ms/step - loss: 0.4489 - accuracy: 0.7883 - val_loss: 0.4192 - val_accuracy: 0.8092\n",
      "Epoch 9/10\n",
      "109550/109550 [==============================] - 730s 7ms/step - loss: 0.4448 - accuracy: 0.7900 - val_loss: 0.4019 - val_accuracy: 0.8215\n",
      "Epoch 10/10\n",
      "109550/109550 [==============================] - 725s 7ms/step - loss: 0.4398 - accuracy: 0.7931 - val_loss: 0.3938 - val_accuracy: 0.8338\n"
     ]
    }
   ],
   "source": [
    "#train\n",
    "with tf.Session() as session:\n",
    "    K.set_session(session)\n",
    "    session.run(tf.global_variables_initializer())  \n",
    "    session.run(tf.tables_initializer())\n",
    "    history = model.fit(x_train, y_train, epochs=10, batch_size=32,validation_split=0.25)\n",
    "    model.save_weights('./elmo-mix.h5')"
   ]
  },
  {
   "cell_type": "code",
   "execution_count": 29,
   "metadata": {},
   "outputs": [
    {
     "data": {
      "image/png": "[encoded data removed]",
      "text/plain": [
       "<Figure size 432x288 with 1 Axes>"
      ]
     },
     "metadata": {
      "needs_background": "light"
     },
     "output_type": "display_data"
    }
   ],
   "source": [
    "import matplotlib.pyplot as plt\n",
    "# summarize history for accuracy\n",
    "plt.plot(history.history['accuracy'])\n",
    "plt.plot(history.history['val_accuracy'])\n",
    "plt.title('model accuracy')\n",
    "plt.ylabel('accuracy')\n",
    "plt.xlabel('epoch')\n",
    "plt.legend(['train', 'test'], loc='upper left')\n",
    "plt.show()"
   ]
  },
  {
   "cell_type": "code",
   "execution_count": 30,
   "metadata": {},
   "outputs": [
    {
     "data": {
      "image/png": "[encoded data removed]",
      "text/plain": [
       "<Figure size 432x288 with 1 Axes>"
      ]
     },
     "metadata": {
      "needs_background": "light"
     },
     "output_type": "display_data"
    }
   ],
   "source": [
    "# summarize history for loss\n",
    "plt.plot(history.history['loss'])\n",
    "plt.plot(history.history['val_loss'])\n",
    "plt.title('model loss')\n",
    "plt.ylabel('loss')\n",
    "plt.xlabel('epoch')\n",
    "plt.legend(['train', 'test'], loc='upper left')\n",
    "plt.show()"
   ]
  },
  {
   "cell_type": "code",
   "execution_count": 24,
   "metadata": {
    "scrolled": true
   },
   "outputs": [
    {
     "name": "stdout",
     "output_type": "stream",
     "text": [
      "36517/36517 [==============================] - 183s 5ms/step\n",
      "[0.6938312890091082, 0.4583618640899658]\n"
     ]
    }
   ],
   "source": [
    "#load model\n",
    "with tf.Session() as session:\n",
    "    K.set_session(session)\n",
    "    session.run(tf.global_variables_initializer())\n",
    "    session.run(tf.tables_initializer())\n",
    "    #model.load_weights('./elmo-model61.h5')  \n",
    "    predicts = model.predict(x_test, batch_size=32)\n",
    "    print(model.evaluate(x_test,y_test))"
   ]
  },
  {
   "cell_type": "code",
   "execution_count": 26,
   "metadata": {},
   "outputs": [],
   "source": [
    "y_test = decode(le, y_test)\n",
    "y_preds = decode(le, predicts)"
   ]
  },
  {
   "cell_type": "code",
   "execution_count": 27,
   "metadata": {},
   "outputs": [
    {
     "name": "stdout",
     "output_type": "stream",
     "text": [
      "Accuracy: 0.458362\n",
      "Precision: 0.291058\n",
      "Recall: 0.054281\n",
      "F1 score: 0.091498\n",
      "Cohens kappa: -0.078931\n",
      "ROC AUC: 0.460375\n",
      "[[15742  2426]\n",
      " [17353   996]]\n"
     ]
    }
   ],
   "source": [
    "# demonstration of calculating metrics for a neural network model using sklearn\n",
    "from sklearn.datasets import make_circles\n",
    "from sklearn.metrics import accuracy_score\n",
    "from sklearn.metrics import precision_score\n",
    "from sklearn.metrics import recall_score\n",
    "from sklearn.metrics import f1_score\n",
    "from sklearn.metrics import cohen_kappa_score\n",
    "from sklearn.metrics import roc_auc_score\n",
    "from sklearn.metrics import confusion_matrix\n",
    "# predict probabilities for test set\n",
    "#yhat_probs = model.predict(X_test, verbose=0)\n",
    "# predict crisp classes for test set\n",
    "#yhat_classes = model.predict_classes(X_test, verbose=0)\n",
    "# reduce to 1d array\n",
    "#yhat_probs = yhat_probs[:, 0]\n",
    "#yhat_classes = yhat_classes[:, 0]\n",
    " \n",
    "# accuracy: (tp + tn) / (p + n)\n",
    "accuracy = accuracy_score(y_test, y_preds)\n",
    "print('Accuracy: %f' % accuracy)\n",
    "# precision tp / (tp + fp)\n",
    "precision = precision_score(y_test, y_preds)\n",
    "print('Precision: %f' % precision)\n",
    "# recall: tp / (tp + fn)\n",
    "recall = recall_score(y_test, y_preds)\n",
    "print('Recall: %f' % recall)\n",
    "# f1: 2 tp / (2 tp + fp + fn)\n",
    "f1 = f1_score(y_test, y_preds)\n",
    "print('F1 score: %f' % f1)\n",
    " \n",
    "# kappa\n",
    "kappa = cohen_kappa_score(y_test, y_preds)\n",
    "print('Cohens kappa: %f' % kappa)\n",
    "# ROC AUC\n",
    "auc = roc_auc_score(y_test, y_preds)\n",
    "print('ROC AUC: %f' % auc)\n",
    "# confusion matrix\n",
    "matrix = confusion_matrix(y_test, y_preds)\n",
    "print(matrix)"
   ]
  },
  {
   "cell_type": "code",
   "execution_count": 28,
   "metadata": {},
   "outputs": [
    {
     "data": {
      "image/png": "[encoded data removed]",
      "text/plain": [
       "<Figure size 432x288 with 1 Axes>"
      ]
     },
     "metadata": {
      "needs_background": "light"
     },
     "output_type": "display_data"
    }
   ],
   "source": [
    "import sklearn.metrics as metrics\n",
    "# calculate the fpr and tpr for all thresholds of the classification\n",
    "#probs = model.predict_proba(X_test)\n",
    "#preds = probs[:,1]\n",
    "fpr, tpr, threshold = metrics.roc_curve(y_test, y_preds)\n",
    "roc_auc = metrics.auc(fpr, tpr)\n",
    "\n",
    "# method I: plt\n",
    "import matplotlib.pyplot as plt\n",
    "plt.title('Receiver Operating Characteristic')\n",
    "plt.plot(fpr, tpr, 'b', label = 'AUC = %0.2f' % roc_auc)\n",
    "plt.legend(loc = 'lower right')\n",
    "plt.plot([0, 1], [0, 1],'r--')\n",
    "plt.xlim([0, 1])\n",
    "plt.ylim([0, 1.05])\n",
    "plt.ylabel('True Positive Rate')\n",
    "plt.xlabel('False Positive Rate')\n",
    "plt.show()"
   ]
  },
  {
   "cell_type": "code",
   "execution_count": 54,
   "metadata": {},
   "outputs": [],
   "source": [
    "#uji model\n",
    "new_text =  ['hoaks dirituit',\n",
    "             'najis njingg penjilatt',\n",
    "             'kamprettt kesasar',\n",
    "             'jokowi bangun infrastruktur'\n",
    "            ]\n",
    "new_text_pr = np.array(new_text, dtype=object)[:, np.newaxis]"
   ]
  },
  {
   "cell_type": "code",
   "execution_count": 55,
   "metadata": {},
   "outputs": [
    {
     "name": "stdout",
     "output_type": "stream",
     "text": [
      "time:  5.375783681869507\n"
     ]
    }
   ],
   "source": [
    "#from tensorflow.keras.models import Sequential\n",
    "\n",
    "#from keras.models import Model\n",
    "#model = Sequential()\n",
    "with tf.Session() as session:\n",
    "    K.set_session(session)\n",
    "    session.run(tf.global_variables_initializer())  \n",
    "    session.run(tf.tables_initializer())\n",
    "    model.load_weights('./elmo-model62.h5') \n",
    "    import time\n",
    "    t = time.time()\n",
    "    rt = model.predict(new_text_pr)\n",
    "    print(\"time: \", time.time() - t)\n",
    "    #print(predicts)"
   ]
  },
  {
   "cell_type": "code",
   "execution_count": 56,
   "metadata": {},
   "outputs": [
    {
     "name": "stdout",
     "output_type": "stream",
     "text": [
      "[1 0 1 0]\n"
     ]
    }
   ],
   "source": [
    "cc = decode(le, rt)\n",
    "print(cc)"
   ]
  },
  {
   "cell_type": "code",
   "execution_count": null,
   "metadata": {},
   "outputs": [],
   "source": []
  }
 ],
 "metadata": {
  "kernelspec": {
   "display_name": "TensorFlow",
   "language": "python",
   "name": "tensorflow"
  },
  "language_info": {
   "codemirror_mode": {
    "name": "ipython",
    "version": 3
   },
   "file_extension": ".py",
   "mimetype": "text/x-python",
   "name": "python",
   "nbconvert_exporter": "python",
   "pygments_lexer": "ipython3",
   "version": "3.6.5"
  }
 },
 "nbformat": 4,
 "nbformat_minor": 2
}
